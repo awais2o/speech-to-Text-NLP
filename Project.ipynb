{
  "nbformat": 4,
  "nbformat_minor": 0,
  "metadata": {
    "colab": {
      "provenance": [],
      "gpuType": "T4"
    },
    "kernelspec": {
      "name": "python3",
      "display_name": "Python 3"
    },
    "language_info": {
      "name": "python"
    },
    "accelerator": "GPU"
  },
  "cells": [
    {
      "cell_type": "code",
      "source": [
        "from google.colab import drive\n",
        "drive.mount('/content/drive')\n"
      ],
      "metadata": {
        "colab": {
          "base_uri": "https://localhost:8080/"
        },
        "id": "sgcD5nBIAFcH",
        "outputId": "907681a3-815f-40e4-a732-265bf70a9d1a"
      },
      "execution_count": 1,
      "outputs": [
        {
          "output_type": "stream",
          "name": "stdout",
          "text": [
            "Mounted at /content/drive\n"
          ]
        }
      ]
    },
    {
      "cell_type": "code",
      "source": [
        " !pip install SpeechRecognition"
      ],
      "metadata": {
        "colab": {
          "base_uri": "https://localhost:8080/"
        },
        "id": "bSo-jflwAuDC",
        "outputId": "455220b6-2aaf-4da0-806e-3849d9169b6c"
      },
      "execution_count": 8,
      "outputs": [
        {
          "output_type": "stream",
          "name": "stdout",
          "text": [
            "Collecting SpeechRecognition\n",
            "  Downloading SpeechRecognition-3.10.1-py2.py3-none-any.whl (32.8 MB)\n",
            "\u001b[2K     \u001b[90m━━━━━━━━━━━━━━━━━━━━━━━━━━━━━━━━━━━━━━━━\u001b[0m \u001b[32m32.8/32.8 MB\u001b[0m \u001b[31m25.1 MB/s\u001b[0m eta \u001b[36m0:00:00\u001b[0m\n",
            "\u001b[?25hRequirement already satisfied: requests>=2.26.0 in /usr/local/lib/python3.10/dist-packages (from SpeechRecognition) (2.31.0)\n",
            "Requirement already satisfied: typing-extensions in /usr/local/lib/python3.10/dist-packages (from SpeechRecognition) (4.5.0)\n",
            "Requirement already satisfied: charset-normalizer<4,>=2 in /usr/local/lib/python3.10/dist-packages (from requests>=2.26.0->SpeechRecognition) (3.3.2)\n",
            "Requirement already satisfied: idna<4,>=2.5 in /usr/local/lib/python3.10/dist-packages (from requests>=2.26.0->SpeechRecognition) (3.6)\n",
            "Requirement already satisfied: urllib3<3,>=1.21.1 in /usr/local/lib/python3.10/dist-packages (from requests>=2.26.0->SpeechRecognition) (2.0.7)\n",
            "Requirement already satisfied: certifi>=2017.4.17 in /usr/local/lib/python3.10/dist-packages (from requests>=2.26.0->SpeechRecognition) (2023.11.17)\n",
            "Installing collected packages: SpeechRecognition\n",
            "Successfully installed SpeechRecognition-3.10.1\n"
          ]
        }
      ]
    },
    {
      "cell_type": "code",
      "source": [
        "!pip install gtts\n"
      ],
      "metadata": {
        "colab": {
          "base_uri": "https://localhost:8080/"
        },
        "id": "ibFgu_G0BOMT",
        "outputId": "ba27f253-aab9-4203-fb29-3ae41f0b7df1"
      },
      "execution_count": 10,
      "outputs": [
        {
          "output_type": "stream",
          "name": "stdout",
          "text": [
            "Collecting gtts\n",
            "  Downloading gTTS-2.5.1-py3-none-any.whl (29 kB)\n",
            "Requirement already satisfied: requests<3,>=2.27 in /usr/local/lib/python3.10/dist-packages (from gtts) (2.31.0)\n",
            "Requirement already satisfied: click<8.2,>=7.1 in /usr/local/lib/python3.10/dist-packages (from gtts) (8.1.7)\n",
            "Requirement already satisfied: charset-normalizer<4,>=2 in /usr/local/lib/python3.10/dist-packages (from requests<3,>=2.27->gtts) (3.3.2)\n",
            "Requirement already satisfied: idna<4,>=2.5 in /usr/local/lib/python3.10/dist-packages (from requests<3,>=2.27->gtts) (3.6)\n",
            "Requirement already satisfied: urllib3<3,>=1.21.1 in /usr/local/lib/python3.10/dist-packages (from requests<3,>=2.27->gtts) (2.0.7)\n",
            "Requirement already satisfied: certifi>=2017.4.17 in /usr/local/lib/python3.10/dist-packages (from requests<3,>=2.27->gtts) (2023.11.17)\n",
            "Installing collected packages: gtts\n",
            "Successfully installed gtts-2.5.1\n"
          ]
        }
      ]
    },
    {
      "cell_type": "code",
      "source": [
        "!pip install playsound\n"
      ],
      "metadata": {
        "colab": {
          "base_uri": "https://localhost:8080/"
        },
        "id": "xhlbUPqDBXaH",
        "outputId": "da2f77b1-aed4-44cd-fb1d-2d4b6b0ec729"
      },
      "execution_count": 12,
      "outputs": [
        {
          "output_type": "stream",
          "name": "stdout",
          "text": [
            "Collecting playsound\n",
            "  Downloading playsound-1.3.0.tar.gz (7.7 kB)\n",
            "  Preparing metadata (setup.py) ... \u001b[?25l\u001b[?25hdone\n",
            "Building wheels for collected packages: playsound\n",
            "  Building wheel for playsound (setup.py) ... \u001b[?25l\u001b[?25hdone\n",
            "  Created wheel for playsound: filename=playsound-1.3.0-py3-none-any.whl size=7020 sha256=8d4e5108b93b6244a95936532364ef063a979ca2c55bcef8c14cac081ef44cd8\n",
            "  Stored in directory: /root/.cache/pip/wheels/90/89/ed/2d643f4226fc8c7c9156fc28abd8051e2d2c0de37ae51ac45c\n",
            "Successfully built playsound\n",
            "Installing collected packages: playsound\n",
            "Successfully installed playsound-1.3.0\n"
          ]
        }
      ]
    },
    {
      "cell_type": "code",
      "source": [
        "!apt-get install portaudio19-dev\n",
        "!pip install pyaudio\n"
      ],
      "metadata": {
        "colab": {
          "base_uri": "https://localhost:8080/"
        },
        "id": "1yJ63mDwB62S",
        "outputId": "64e3984b-7aeb-430a-cf4a-7601b69b4ea4"
      },
      "execution_count": 16,
      "outputs": [
        {
          "output_type": "stream",
          "name": "stdout",
          "text": [
            "Reading package lists... Done\n",
            "Building dependency tree... Done\n",
            "Reading state information... Done\n",
            "The following additional packages will be installed:\n",
            "  libportaudio2 libportaudiocpp0\n",
            "Suggested packages:\n",
            "  portaudio19-doc\n",
            "The following NEW packages will be installed:\n",
            "  libportaudio2 libportaudiocpp0 portaudio19-dev\n",
            "0 upgraded, 3 newly installed, 0 to remove and 31 not upgraded.\n",
            "Need to get 188 kB of archives.\n",
            "After this operation, 927 kB of additional disk space will be used.\n",
            "Get:1 http://archive.ubuntu.com/ubuntu jammy/universe amd64 libportaudio2 amd64 19.6.0-1.1 [65.3 kB]\n",
            "Get:2 http://archive.ubuntu.com/ubuntu jammy/universe amd64 libportaudiocpp0 amd64 19.6.0-1.1 [16.1 kB]\n",
            "Get:3 http://archive.ubuntu.com/ubuntu jammy/universe amd64 portaudio19-dev amd64 19.6.0-1.1 [106 kB]\n",
            "Fetched 188 kB in 2s (107 kB/s)\n",
            "Selecting previously unselected package libportaudio2:amd64.\n",
            "(Reading database ... 121730 files and directories currently installed.)\n",
            "Preparing to unpack .../libportaudio2_19.6.0-1.1_amd64.deb ...\n",
            "Unpacking libportaudio2:amd64 (19.6.0-1.1) ...\n",
            "Selecting previously unselected package libportaudiocpp0:amd64.\n",
            "Preparing to unpack .../libportaudiocpp0_19.6.0-1.1_amd64.deb ...\n",
            "Unpacking libportaudiocpp0:amd64 (19.6.0-1.1) ...\n",
            "Selecting previously unselected package portaudio19-dev:amd64.\n",
            "Preparing to unpack .../portaudio19-dev_19.6.0-1.1_amd64.deb ...\n",
            "Unpacking portaudio19-dev:amd64 (19.6.0-1.1) ...\n",
            "Setting up libportaudio2:amd64 (19.6.0-1.1) ...\n",
            "Setting up libportaudiocpp0:amd64 (19.6.0-1.1) ...\n",
            "Setting up portaudio19-dev:amd64 (19.6.0-1.1) ...\n",
            "Processing triggers for libc-bin (2.35-0ubuntu3.4) ...\n",
            "/sbin/ldconfig.real: /usr/local/lib/libtbbmalloc_proxy.so.2 is not a symbolic link\n",
            "\n",
            "/sbin/ldconfig.real: /usr/local/lib/libtbb.so.12 is not a symbolic link\n",
            "\n",
            "/sbin/ldconfig.real: /usr/local/lib/libtbbbind.so.3 is not a symbolic link\n",
            "\n",
            "/sbin/ldconfig.real: /usr/local/lib/libtbbmalloc.so.2 is not a symbolic link\n",
            "\n",
            "/sbin/ldconfig.real: /usr/local/lib/libtbbbind_2_5.so.3 is not a symbolic link\n",
            "\n",
            "/sbin/ldconfig.real: /usr/local/lib/libtbbbind_2_0.so.3 is not a symbolic link\n",
            "\n",
            "Collecting pyaudio\n",
            "  Using cached PyAudio-0.2.14.tar.gz (47 kB)\n",
            "  Installing build dependencies ... \u001b[?25l\u001b[?25hdone\n",
            "  Getting requirements to build wheel ... \u001b[?25l\u001b[?25hdone\n",
            "  Preparing metadata (pyproject.toml) ... \u001b[?25l\u001b[?25hdone\n",
            "Building wheels for collected packages: pyaudio\n",
            "  Building wheel for pyaudio (pyproject.toml) ... \u001b[?25l\u001b[?25hdone\n",
            "  Created wheel for pyaudio: filename=PyAudio-0.2.14-cp310-cp310-linux_x86_64.whl size=63861 sha256=0a807ab440aad3bd75644c08f1b3e05bc560da7a395f236a4a93a05b2d043fc5\n",
            "  Stored in directory: /root/.cache/pip/wheels/d6/21/f4/0b51d41ba79e51b16295cbb096ec49f334792814d545b508c5\n",
            "Successfully built pyaudio\n",
            "Installing collected packages: pyaudio\n",
            "Successfully installed pyaudio-0.2.14\n"
          ]
        }
      ]
    },
    {
      "cell_type": "code",
      "source": [
        "# Import libraries\n",
        "import pandas as pd\n",
        "import re\n",
        "import nltk\n",
        "from nltk.corpus import stopwords\n",
        "from sklearn.feature_extraction.text import TfidfVectorizer\n",
        "from sklearn.metrics.pairwise import cosine_similarity\n",
        "from transformers import pipeline\n",
        "import speech_recognition as sr\n",
        "from gtts import gTTS\n",
        "from playsound import playsound\n",
        "import IPython.display as ipd\n",
        "from IPython.display import Audio, display\n",
        "\n",
        "# Download NLTK stopwords dataset\n",
        "nltk.download('stopwords')"
      ],
      "metadata": {
        "colab": {
          "base_uri": "https://localhost:8080/"
        },
        "id": "LanVULShEPXS",
        "outputId": "85100001-b329-40c6-c881-d88724e90dea"
      },
      "execution_count": 32,
      "outputs": [
        {
          "output_type": "stream",
          "name": "stderr",
          "text": [
            "[nltk_data] Downloading package stopwords to /root/nltk_data...\n",
            "[nltk_data]   Package stopwords is already up-to-date!\n"
          ]
        },
        {
          "output_type": "execute_result",
          "data": {
            "text/plain": [
              "True"
            ]
          },
          "metadata": {},
          "execution_count": 32
        }
      ]
    },
    {
      "cell_type": "code",
      "source": [
        "\n",
        "# Load the dataset\n",
        "dataset = pd.read_csv(\"/content/drive/MyDrive/Colab Notebooks/Corpus - QA.csv\")\n"
      ],
      "metadata": {
        "id": "jhDJmbU3EVhd"
      },
      "execution_count": 22,
      "outputs": []
    },
    {
      "cell_type": "code",
      "source": [
        "# Preprocess text for Jaccard Similarity\n",
        "def preprocess_text(text):\n",
        "    text = text.lower()\n",
        "    text = re.sub(r'[^\\w\\s]', '', text)\n",
        "    tokens = text.split()\n",
        "    tokens = [word for word in tokens if word not in stopwords.words('english')]\n",
        "    return ' '.join(tokens)"
      ],
      "metadata": {
        "id": "Q_eKH07HEXiB"
      },
      "execution_count": 23,
      "outputs": []
    },
    {
      "cell_type": "code",
      "source": [
        "def get_most_similar_question(user_input, corpus):\n",
        "    user_input = preprocess_text(user_input)\n",
        "    corpus['Similarity'] = corpus['Processed_Text'].apply(lambda x: len(set(user_input.split()) & set(x.split())) / float(len(set(user_input.split()) | set(x.split()))))\n",
        "    most_similar_index = corpus['Similarity'].idxmax()\n",
        "    return corpus.loc[most_similar_index, 'Answer']\n"
      ],
      "metadata": {
        "id": "HenWND5NEeZy"
      },
      "execution_count": 24,
      "outputs": []
    },
    {
      "cell_type": "code",
      "source": [
        "def text_to_speech(text):\n",
        "    tts = gTTS(text=text, lang='en', slow=False)\n",
        "    tts.save(\"output.mp3\")\n",
        "    display(Audio(\"output.mp3\", autoplay=True))"
      ],
      "metadata": {
        "id": "hro-1qLNEjMN"
      },
      "execution_count": 33,
      "outputs": []
    },
    {
      "cell_type": "code",
      "source": [
        "# Updated Speech to Text function\n",
        "def speech_to_text(audio_file_path):\n",
        "    recognizer = sr.Recognizer()\n",
        "\n",
        "    try:\n",
        "        with sr.AudioFile(audio_file_path) as source:\n",
        "            audio = recognizer.record(source)\n",
        "\n",
        "        user_input = recognizer.recognize_google(audio)\n",
        "        print(f\"User Input: {user_input}\")\n",
        "        return user_input\n",
        "    except sr.UnknownValueError:\n",
        "        print(\"Sorry, I could not understand the audio.\")\n",
        "        return None\n",
        "    except sr.RequestError as e:\n",
        "        print(f\"Error with the speech recognition service: {e}\")\n",
        "        return None\n"
      ],
      "metadata": {
        "id": "2FIeQJ-nEvRH"
      },
      "execution_count": 26,
      "outputs": []
    },
    {
      "cell_type": "code",
      "source": [
        "\n",
        "# Preprocess the entire dataset for Jaccard Similarity\n",
        "dataset['Processed_Text'] = dataset['Question'].apply(preprocess_text)"
      ],
      "metadata": {
        "id": "CRala0u_E0HU"
      },
      "execution_count": 27,
      "outputs": []
    },
    {
      "cell_type": "markdown",
      "source": [],
      "metadata": {
        "id": "IPMMpxNaEiar"
      }
    },
    {
      "cell_type": "code",
      "execution_count": 35,
      "metadata": {
        "colab": {
          "base_uri": "https://localhost:8080/",
          "height": 110
        },
        "id": "Gass64L--4m_",
        "outputId": "dc0e5c42-cffb-48da-8f88-15a8c5e74cf4"
      },
      "outputs": [
        {
          "output_type": "stream",
          "name": "stdout",
          "text": [
            "User Input: where is Canada located\n",
            "Chatbot: Yes.\n"
          ]
        },
        {
          "output_type": "display_data",
          "data": {
            "text/plain": [
              "<IPython.lib.display.Audio object>"
            ],
            "text/html": [
              "\n",
              "                <audio  controls=\"controls\" autoplay=\"autoplay\">\n",
              "                    <source src=\"data:audio/mpeg;base64,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\" type=\"audio/mpeg\" />\n",
              "                    Your browser does not support the audio element.\n",
              "                </audio>\n",
              "              "
            ]
          },
          "metadata": {}
        }
      ],
      "source": [
        "\n",
        "\n",
        "# Main Chatbot Loop\n",
        "# while count:\n",
        "audio_file_path = \"/content/drive/MyDrive/Colab Notebooks/voice.wav\"\n",
        "user_input = speech_to_text(audio_file_path)\n",
        "\n",
        "if user_input is not None:\n",
        "    answer = get_most_similar_question(user_input, dataset)\n",
        "    print(f\"Chatbot: {answer}\")\n",
        "    text_to_speech(answer)\n"
      ]
    },
    {
      "cell_type": "code",
      "source": [
        "from transformers import pipeline\n",
        "from IPython.display import Audio, display\n",
        "\n",
        "# Load sentiment analysis model\n",
        "sentiment_analysis = pipeline(\"sentiment-analysis\")\n",
        "\n",
        "# # Updated Text to Speech function\n",
        "# def text_to_speech(text):\n",
        "#     tts = gTTS(text=text, lang='en', slow=False)\n",
        "#     tts.save(\"output.mp3\")\n",
        "#     display(Audio(filename=\"output.mp3\", autoplay=True))\n",
        "\n",
        "# Sentiment Analysis function\n",
        "def analyze_sentiment(user_input):\n",
        "    result = sentiment_analysis(user_input)\n",
        "    return result[0]['label']\n",
        "\n",
        "# Main Sentiment Analysis Loop\n",
        "# while True:\n",
        "audio_file_path = \"/content/drive/MyDrive/Colab Notebooks/voice.wav\"\n",
        "user_input = speech_to_text(audio_file_path)\n",
        "\n",
        "if user_input is not None:\n",
        "    sentiment = analyze_sentiment(user_input)\n",
        "    sentiment_message = \"Your sentence is positive.\" if sentiment == \"POSITIVE\" else \"Your sentence is negative.\"\n",
        "    print(sentiment_message)\n",
        "    text_to_speech(sentiment_message)\n"
      ],
      "metadata": {
        "colab": {
          "base_uri": "https://localhost:8080/",
          "height": 164
        },
        "id": "iVTP-p7qIAGm",
        "outputId": "6124ea0e-7579-430e-8856-c301f4379022"
      },
      "execution_count": 40,
      "outputs": [
        {
          "output_type": "stream",
          "name": "stderr",
          "text": [
            "No model was supplied, defaulted to distilbert-base-uncased-finetuned-sst-2-english and revision af0f99b (https://huggingface.co/distilbert-base-uncased-finetuned-sst-2-english).\n",
            "Using a pipeline without specifying a model name and revision in production is not recommended.\n"
          ]
        },
        {
          "output_type": "stream",
          "name": "stdout",
          "text": [
            "User Input: where is Canada located\n",
            "Your sentence is positive.\n"
          ]
        },
        {
          "output_type": "display_data",
          "data": {
            "text/plain": [
              "<IPython.lib.display.Audio object>"
            ],
            "text/html": [
              "\n",
              "                <audio  controls=\"controls\" autoplay=\"autoplay\">\n",
              "                    <source src=\"data:audio/mpeg;base64,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\" type=\"audio/mpeg\" />\n",
              "                    Your browser does not support the audio element.\n",
              "                </audio>\n",
              "              "
            ]
          },
          "metadata": {}
        }
      ]
    },
    {
      "cell_type": "code",
      "source": [
        "from transformers import MarianMTModel, MarianTokenizer\n",
        "\n",
        "# Load the MarianMT model and tokenizer for English to Urdu translation\n",
        "model_name = \"Helsinki-NLP/opus-mt-en-ur\"\n",
        "tokenizer = MarianTokenizer.from_pretrained(model_name)\n",
        "model = MarianMTModel.from_pretrained(model_name)\n",
        "\n",
        "def text_to_speech_Urdu(text, target_language='en'):\n",
        "    tts = gTTS(text=text, lang=target_language, slow=False)\n",
        "    tts.save(\"output.mp3\")\n",
        "    display(Audio(filename=\"output.mp3\", autoplay=True))\n",
        "\n",
        "# Translate function\n",
        "def translate_text(text, model, tokenizer, target_language=\"ur\"):\n",
        "    inputs = tokenizer(text, return_tensors=\"pt\", truncation=True)\n",
        "    translation_ids = model.generate(**inputs, max_length=100, num_beams=4, length_penalty=2.0, early_stopping=True)\n",
        "    translated_text = tokenizer.decode(translation_ids[0], skip_special_tokens=True)\n",
        "    return translated_text\n",
        "\n",
        "# Main Translation Loop\n",
        "\n",
        "    # Replace with your user input or speech-to-text result\n",
        "user_input = sentiment_message\n",
        "\n",
        "translated_text = translate_text(user_input, model, tokenizer)\n",
        "print(f\"Translated text (Urdu): {translated_text}\")\n",
        "\n",
        "text_to_speech_Urdu(translated_text, target_language='ur')\n"
      ],
      "metadata": {
        "colab": {
          "base_uri": "https://localhost:8080/",
          "height": 127
        },
        "id": "cj2w2SBII0c8",
        "outputId": "97b149cf-7e3c-4afd-dcb8-fa5cb62deb52"
      },
      "execution_count": 45,
      "outputs": [
        {
          "output_type": "stream",
          "name": "stderr",
          "text": [
            "/usr/local/lib/python3.10/dist-packages/transformers/models/marian/tokenization_marian.py:197: UserWarning: Recommended: pip install sacremoses.\n",
            "  warnings.warn(\"Recommended: pip install sacremoses.\")\n"
          ]
        },
        {
          "output_type": "stream",
          "name": "stdout",
          "text": [
            "Translated text (Urdu): آپ کی سزا مثبت ہے.\n"
          ]
        },
        {
          "output_type": "display_data",
          "data": {
            "text/plain": [
              "<IPython.lib.display.Audio object>"
            ],
            "text/html": [
              "\n",
              "                <audio  controls=\"controls\" autoplay=\"autoplay\">\n",
              "                    <source src=\"data:audio/mpeg;base64,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\" type=\"audio/mpeg\" />\n",
              "                    Your browser does not support the audio element.\n",
              "                </audio>\n",
              "              "
            ]
          },
          "metadata": {}
        }
      ]
    }
  ]
}